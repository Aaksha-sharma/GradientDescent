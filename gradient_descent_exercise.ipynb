{
  "nbformat": 4,
  "nbformat_minor": 0,
  "metadata": {
    "colab": {
      "name": "gradient_descent_exercise.ipynb",
      "provenance": [],
      "authorship_tag": "ABX9TyM5YNpeeia9gDExJuHN048o",
      "include_colab_link": true
    },
    "kernelspec": {
      "name": "python3",
      "display_name": "Python 3"
    },
    "language_info": {
      "name": "python"
    }
  },
  "cells": [
    {
      "cell_type": "markdown",
      "metadata": {
        "id": "view-in-github",
        "colab_type": "text"
      },
      "source": [
        "<a href=\"https://colab.research.google.com/github/Aaksha-sharma/MachineLearningAlgorithms/blob/main/gradient_descent_exercise.ipynb\" target=\"_parent\"><img src=\"https://colab.research.google.com/assets/colab-badge.svg\" alt=\"Open In Colab\"/></a>"
      ]
    },
    {
      "cell_type": "code",
      "metadata": {
        "id": "wbyUU-bmq3Ry"
      },
      "source": [
        "import numpy as np\n",
        "import pandas as pd\n",
        "from sklearn.linear_model import LinearRegression\n",
        "import math"
      ],
      "execution_count": null,
      "outputs": []
    },
    {
      "cell_type": "code",
      "metadata": {
        "id": "tY-mbOti5F29"
      },
      "source": [
        "def predict_using_sklearn():\n",
        "  dt=pd.read_csv('/content/marks.csv')\n",
        "  r = LinearRegression()\n",
        "  r.fit(dt[['math']],dt.cs)    #2D array\n",
        "  return r.coef_, r.intercept_"
      ],
      "execution_count": null,
      "outputs": []
    },
    {
      "cell_type": "code",
      "metadata": {
        "id": "7rbh-HGDxIdB"
      },
      "source": [
        "def gradient_descent(x,y):\n",
        "  m_curr=b_curr=0\n",
        "  iterations=1000000\n",
        "  n=len(x)\n",
        "  cost_previous=0\n",
        "  learning_rate=0.0002\n",
        "  for i in range(iterations):\n",
        "    yp = m_curr*x + b_curr\n",
        "    cost = 1/n * sum([val**2 for val in (y-yp)])\n",
        "    md = -(2/n) * sum(x*(y-yp))\n",
        "    bd = -(2/n) * sum(y-yp)\n",
        "    m_curr = m_curr - learning_rate*md\n",
        "    b_curr = b_curr - learning_rate*bd\n",
        "    if math.isclose(cost,cost_previous,rel_tol=1e-20):\n",
        "      break\n",
        "      cost_previous=cost\n",
        "      print (\"m {}, b {}, cost {}, iteration {}\".format(m_curr,b_curr,cost, i))\n",
        "    return m_curr,b_curr"
      ],
      "execution_count": null,
      "outputs": []
    },
    {
      "cell_type": "code",
      "metadata": {
        "colab": {
          "base_uri": "https://localhost:8080/"
        },
        "id": "Pgn41XmYtb3g",
        "outputId": "fb886a67-1cdd-4e1d-ac25-2628c13152b4"
      },
      "source": [
        "if __name__==\"__main__\":\n",
        "  dt = pd.read_csv('/content/marks.csv')\n",
        "  x=np.array(dt.math)\n",
        "  y=np.array(dt.cs)\n",
        "  m,b =gradient_descent(x,y)\n",
        "  print(\"using gradient descent function: coef{} Intercept{}\".format(m,b))\n",
        "  m_sklearn, b_sklearn = predict_using_sklearn()\n",
        "  print(\"using sklearn: Coef{} Intercept{}\".format(m_sklearn, b_sklearn))"
      ],
      "execution_count": null,
      "outputs": [
        {
          "output_type": "stream",
          "text": [
            "using gradient descent function: coef1.9783600000000003 Intercept0.027960000000000002\n",
            "using sklearn: Coef[1.01773624] Intercept1.9152193111569034\n"
          ],
          "name": "stdout"
        }
      ]
    }
  ]
}